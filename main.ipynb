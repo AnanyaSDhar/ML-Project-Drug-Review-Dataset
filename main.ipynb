{
 "cells": [
  {
   "attachments": {},
   "cell_type": "markdown",
   "metadata": {},
   "source": [
    "### Importing Necessary Libraries and Modules"
   ]
  },
  {
   "cell_type": "code",
   "execution_count": 223,
   "metadata": {},
   "outputs": [],
   "source": [
    "import pandas as pd\n",
    "import warnings\n",
    "from bs4 import MarkupResemblesLocatorWarning, BeautifulSoup\n",
    "from sklearn.exceptions import ConvergenceWarning\n",
    "from sklearn.impute import KNNImputer\n",
    "from sklearn.preprocessing import StandardScaler, MinMaxScaler\n",
    "import matplotlib.pyplot as plt\n",
    "import seaborn as sns\n",
    "import re"
   ]
  },
  {
   "attachments": {},
   "cell_type": "markdown",
   "metadata": {},
   "source": [
    "### Suppressing MarkupResemblesLocatorWarning, FutureWarning and ConvergenceWarning"
   ]
  },
  {
   "cell_type": "code",
   "execution_count": 169,
   "metadata": {},
   "outputs": [],
   "source": [
    "warnings.filterwarnings('ignore', category=MarkupResemblesLocatorWarning)\n",
    "warnings.simplefilter(action='ignore', category=FutureWarning)\n",
    "warnings.filterwarnings(\"ignore\", category=ConvergenceWarning)"
   ]
  },
  {
   "attachments": {},
   "cell_type": "markdown",
   "metadata": {},
   "source": [
    "### Importing Text Processing Library NLTK"
   ]
  },
  {
   "cell_type": "code",
   "execution_count": 170,
   "metadata": {},
   "outputs": [],
   "source": [
    "import nltk\n",
    "\n",
    "# nltk.download('stopwords')\n",
    "# nltk.download('punkt')\n",
    "# nltk.download('wordnet')\n",
    "# nltk.download('vader_lexicon')\n",
    "\n",
    "\n",
    "from nltk.tokenize import word_tokenize\n",
    "from nltk.corpus import stopwords\n",
    "from nltk.stem import WordNetLemmatizer\n",
    "from spellchecker import SpellChecker\n",
    "from nltk.sentiment.vader import SentimentIntensityAnalyzer"
   ]
  },
  {
   "attachments": {},
   "cell_type": "markdown",
   "metadata": {},
   "source": [
    "# Data Preprocessing"
   ]
  },
  {
   "attachments": {},
   "cell_type": "markdown",
   "metadata": {},
   "source": [
    "##### Reading the datasets"
   ]
  },
  {
   "cell_type": "code",
   "execution_count": 171,
   "metadata": {},
   "outputs": [],
   "source": [
    "# dtypes = { 'Unnamed: 0': 'int32', 'drugName': 'category', 'condition': 'category', 'review': 'category', 'rating': 'float16', 'date': 'category', 'usefulCount': 'int16' }\n",
    "\n",
    "# train_df = pd.read_csv('C:\\\\Users\\\\harsh\\\\Desktop\\\\ML Projects\\\\GSSOC\\\\datasets\\\\drugsComTrain_raw.tsv', sep='\\t', dtype=dtypes)\n",
    "# test_df = pd.read_csv(\"C:\\\\Users\\\\harsh\\\\Desktop\\\\ML Projects\\\\GSSOC\\\\datasets\\\\drugsComTest_raw.tsv\", sep='\\t', dtype=dtypes)"
   ]
  },
  {
   "attachments": {},
   "cell_type": "markdown",
   "metadata": {},
   "source": [
    "##### Decoding HTML-encoded characters"
   ]
  },
  {
   "cell_type": "code",
   "execution_count": 172,
   "metadata": {},
   "outputs": [],
   "source": [
    "# def decode_html(text):\n",
    "#     return BeautifulSoup(text, \"html.parser\").get_text()\n",
    "\n",
    "# def remove_special_characters(text):\n",
    "#     return re.sub('[^a-zA-Z0-9\\s]', '', text)\n",
    "\n",
    "# train_df['review'] = train_df['review'].apply(decode_html)\n",
    "# train_df['review'] = train_df['review'].apply(remove_special_characters)\n",
    "\n",
    "# test_df['review'] = test_df['review'].apply(decode_html)\n",
    "# test_df['review'] = test_df['review'].apply(remove_special_characters)"
   ]
  },
  {
   "cell_type": "code",
   "execution_count": 173,
   "metadata": {},
   "outputs": [],
   "source": [
    "# train_df.head()"
   ]
  },
  {
   "cell_type": "code",
   "execution_count": 174,
   "metadata": {},
   "outputs": [],
   "source": [
    "# test_df.head()"
   ]
  },
  {
   "attachments": {},
   "cell_type": "markdown",
   "metadata": {},
   "source": [
    "##### Dropping unnamed and date columns from both datasets"
   ]
  },
  {
   "cell_type": "code",
   "execution_count": 175,
   "metadata": {},
   "outputs": [],
   "source": [
    "# train_df.drop(['Unnamed: 0'], axis=1, inplace=True)\n",
    "# test_df.drop(['Unnamed: 0'], axis=1, inplace=True)\n",
    "\n",
    "# train_df.drop(['date'], axis=1, inplace=True)\n",
    "# test_df.drop(['date'], axis=1, inplace=True)"
   ]
  },
  {
   "cell_type": "code",
   "execution_count": 176,
   "metadata": {},
   "outputs": [],
   "source": [
    "# train_df.head()"
   ]
  },
  {
   "cell_type": "code",
   "execution_count": 177,
   "metadata": {},
   "outputs": [],
   "source": [
    "# test_df.head()"
   ]
  },
  {
   "attachments": {},
   "cell_type": "markdown",
   "metadata": {},
   "source": [
    "##### Adding 4 new columns having sentiment analysis values (pos, neg, neu, comp), i.e, Positive Score, Negative Score, Neutral Score and Compound Score respectively"
   ]
  },
  {
   "cell_type": "code",
   "execution_count": 178,
   "metadata": {},
   "outputs": [],
   "source": [
    "# train_df['pos'] = 0.0\n",
    "# test_df['pos'] = 0.0\n",
    "\n",
    "# train_df['neg'] = 0.0\n",
    "# test_df['neg'] = 0.0\n",
    "\n",
    "# train_df['neu'] = 0.0\n",
    "# test_df['neu'] = 0.0\n",
    "\n",
    "# train_df['comp'] = 0.0\n",
    "# test_df['comp'] = 0.0"
   ]
  },
  {
   "cell_type": "code",
   "execution_count": 179,
   "metadata": {},
   "outputs": [],
   "source": [
    "# train_df.head()"
   ]
  },
  {
   "cell_type": "code",
   "execution_count": 180,
   "metadata": {},
   "outputs": [],
   "source": [
    "# test_df.head()"
   ]
  },
  {
   "attachments": {},
   "cell_type": "markdown",
   "metadata": {},
   "source": [
    "##### Sentiment Analysis using 'nltk' library"
   ]
  },
  {
   "cell_type": "code",
   "execution_count": 181,
   "metadata": {},
   "outputs": [],
   "source": [
    "# analyzer = SentimentIntensityAnalyzer()\n",
    "# spell = SpellChecker()\n",
    "# lemmatizer = WordNetLemmatizer()\n",
    "# stop_words = set(stopwords.words('english'))\n",
    "\n",
    "# def preprocess_text(text):\n",
    "#     # lowercase the text\n",
    "#     text = text.lower()\n",
    "#     text = re.sub(r'[^\\w\\s]', '', text)\n",
    "#     text = re.sub(r'<.*?>', '', text)\n",
    "#     text = re.sub(r'http\\S+', '', text)\n",
    "    \n",
    "#     # words = word_tokenize(text)\n",
    "#     # corrected_words = [spell.correction(word) for word in words]\n",
    "    \n",
    "#     # try:\n",
    "#     #     text = ' '.join(corrected_words)\n",
    "#     # except:\n",
    "#     #     text = ' '\n",
    "\n",
    "#     tokens = word_tokenize(text)\n",
    "#     filtered_tokens = [token for token in tokens if token not in stop_words]\n",
    "#     lemmatized_tokens = [lemmatizer.lemmatize(token) for token in filtered_tokens]\n",
    "#     preprocessed_text = ' '.join(lemmatized_tokens)\n",
    "    \n",
    "#     return preprocessed_text\n",
    "\n",
    "# def classify_sentiment(text):\n",
    "#     preprocessed_text = preprocess_text(text)\n",
    "    \n",
    "#     sentiment_scores = analyzer.polarity_scores(preprocessed_text)\n",
    "    \n",
    "#     pos_score = sentiment_scores['pos']\n",
    "#     neg_score = sentiment_scores['neg']\n",
    "#     neu_score = sentiment_scores['neu']\n",
    "#     compound_score = sentiment_scores['compound']\n",
    "    \n",
    "#     return pos_score, neg_score, neu_score, compound_score\n",
    "\n",
    "# for index, row in train_df.iterrows():\n",
    "#     pos_score, neg_score, neu_score, compound_score = classify_sentiment(row['review'])\n",
    "    \n",
    "#     train_df.at[index, 'pos'] = pos_score\n",
    "#     train_df.at[index, 'neg'] = neg_score\n",
    "#     train_df.at[index, 'neu'] = neu_score\n",
    "#     train_df.at[index, 'comp'] = compound_score\n",
    "    \n",
    "#     if index % 1000 == 0:\n",
    "#         print(\"train_df: \", index)\n",
    "\n",
    "# print(\"train_df completed!\")\n",
    "\n",
    "# train_df.drop(['review'], axis=1, inplace=True)\n",
    "\n",
    "# for index, row in test_df.iterrows():\n",
    "#     pos_score, neg_score, neu_score, compound_score = classify_sentiment(row['review'])\n",
    "    \n",
    "#     test_df.at[index, 'pos'] = pos_score\n",
    "#     test_df.at[index, 'neg'] = neg_score\n",
    "#     test_df.at[index, 'neu'] = neu_score\n",
    "#     test_df.at[index, 'comp'] = compound_score\n",
    "    \n",
    "#     if index % 1000 == 0:\n",
    "#         print(\"test_df: \", index)\n",
    "        \n",
    "# print(\"test_df completed!\")\n",
    "    \n",
    "# test_df.drop(['review'], axis=1, inplace=True)"
   ]
  },
  {
   "cell_type": "code",
   "execution_count": 182,
   "metadata": {},
   "outputs": [],
   "source": [
    "# train_df.head()"
   ]
  },
  {
   "cell_type": "code",
   "execution_count": 183,
   "metadata": {},
   "outputs": [],
   "source": [
    "# test_df.head()"
   ]
  },
  {
   "attachments": {},
   "cell_type": "markdown",
   "metadata": {},
   "source": [
    "##### One hot encoding drugName and Condition Column"
   ]
  },
  {
   "cell_type": "code",
   "execution_count": 184,
   "metadata": {},
   "outputs": [],
   "source": [
    "# drugNametoIndex = {}\n",
    "# ind = 0\n",
    "\n",
    "# for index, drugName in enumerate(train_df['drugName'].unique()):\n",
    "#     drugNametoIndex[drugName] = ind\n",
    "#     ind += 1\n",
    "# for index, drugName in enumerate(test_df['drugName'].unique()):\n",
    "#     if (drugName not in drugNametoIndex.keys()):\n",
    "#         drugNametoIndex[drugName] = ind\n",
    "#         ind += 1\n",
    "\n",
    "# train_df['drugName'] = train_df['drugName'].apply(lambda x: drugNametoIndex[x])\n",
    "# test_df['drugName'] = test_df['drugName'].apply(lambda x: drugNametoIndex[x])"
   ]
  },
  {
   "cell_type": "code",
   "execution_count": 185,
   "metadata": {},
   "outputs": [],
   "source": [
    "# condition_to_int = {}\n",
    "# ind = 0\n",
    "\n",
    "# for index, condition in enumerate(train_df['condition'].unique()):\n",
    "#     condition_to_int[condition] = ind\n",
    "#     ind += 1\n",
    "# for index, condition in enumerate(test_df['condition'].unique()):\n",
    "#     if (condition not in condition_to_int.keys()):\n",
    "#         condition_to_int[condition] = ind\n",
    "#         ind += 1\n",
    "\n",
    "# train_df['condition'] = train_df['condition'].apply(lambda x: condition_to_int[x])\n",
    "# test_df['condition'] = test_df['condition'].apply(lambda x: condition_to_int[x])"
   ]
  },
  {
   "cell_type": "code",
   "execution_count": 186,
   "metadata": {},
   "outputs": [],
   "source": [
    "# train_df.head()"
   ]
  },
  {
   "cell_type": "code",
   "execution_count": 187,
   "metadata": {},
   "outputs": [],
   "source": [
    "# test_df.head()"
   ]
  },
  {
   "attachments": {},
   "cell_type": "markdown",
   "metadata": {},
   "source": [
    "##### Saving the modified DF to csv file"
   ]
  },
  {
   "cell_type": "code",
   "execution_count": 188,
   "metadata": {},
   "outputs": [],
   "source": [
    "# train_df.to_csv('C:\\\\Users\\\\harsh\\\\Desktop\\\\ML Projects\\\\GSSOC\\\\datasets_generated\\\\train_df.csv', index=False)\n",
    "# test_df.to_csv('C:\\\\Users\\\\harsh\\\\Desktop\\\\ML Projects\\\\GSSOC\\\\datasets_generated\\\\test_df.csv', index=False)"
   ]
  },
  {
   "attachments": {},
   "cell_type": "markdown",
   "metadata": {},
   "source": [
    "##### Opening Saved CSV files"
   ]
  },
  {
   "cell_type": "code",
   "execution_count": 189,
   "metadata": {},
   "outputs": [],
   "source": [
    "train_df = pd.read_csv('C:\\\\Users\\\\harsh\\\\Desktop\\\\ML Projects\\\\GSSOC\\\\datasets_generated\\\\train_df.csv')\n",
    "test_df = pd.read_csv('C:\\\\Users\\\\harsh\\\\Desktop\\\\ML Projects\\\\GSSOC\\\\datasets_generated\\\\test_df.csv')"
   ]
  },
  {
   "cell_type": "code",
   "execution_count": 190,
   "metadata": {},
   "outputs": [
    {
     "data": {
      "text/html": [
       "<div>\n",
       "<style scoped>\n",
       "    .dataframe tbody tr th:only-of-type {\n",
       "        vertical-align: middle;\n",
       "    }\n",
       "\n",
       "    .dataframe tbody tr th {\n",
       "        vertical-align: top;\n",
       "    }\n",
       "\n",
       "    .dataframe thead th {\n",
       "        text-align: right;\n",
       "    }\n",
       "</style>\n",
       "<table border=\"1\" class=\"dataframe\">\n",
       "  <thead>\n",
       "    <tr style=\"text-align: right;\">\n",
       "      <th></th>\n",
       "      <th>drugName</th>\n",
       "      <th>condition</th>\n",
       "      <th>rating</th>\n",
       "      <th>usefulCount</th>\n",
       "      <th>pos</th>\n",
       "      <th>neg</th>\n",
       "      <th>neu</th>\n",
       "      <th>comp</th>\n",
       "    </tr>\n",
       "  </thead>\n",
       "  <tbody>\n",
       "    <tr>\n",
       "      <th>0</th>\n",
       "      <td>0</td>\n",
       "      <td>0.0</td>\n",
       "      <td>9.0</td>\n",
       "      <td>27</td>\n",
       "      <td>0.000</td>\n",
       "      <td>0.000</td>\n",
       "      <td>1.000</td>\n",
       "      <td>0.0000</td>\n",
       "    </tr>\n",
       "    <tr>\n",
       "      <th>1</th>\n",
       "      <td>1</td>\n",
       "      <td>1.0</td>\n",
       "      <td>8.0</td>\n",
       "      <td>192</td>\n",
       "      <td>0.215</td>\n",
       "      <td>0.035</td>\n",
       "      <td>0.750</td>\n",
       "      <td>0.9169</td>\n",
       "    </tr>\n",
       "    <tr>\n",
       "      <th>2</th>\n",
       "      <td>2</td>\n",
       "      <td>2.0</td>\n",
       "      <td>5.0</td>\n",
       "      <td>17</td>\n",
       "      <td>0.133</td>\n",
       "      <td>0.039</td>\n",
       "      <td>0.828</td>\n",
       "      <td>0.8176</td>\n",
       "    </tr>\n",
       "    <tr>\n",
       "      <th>3</th>\n",
       "      <td>3</td>\n",
       "      <td>2.0</td>\n",
       "      <td>8.0</td>\n",
       "      <td>10</td>\n",
       "      <td>0.161</td>\n",
       "      <td>0.113</td>\n",
       "      <td>0.726</td>\n",
       "      <td>0.5267</td>\n",
       "    </tr>\n",
       "    <tr>\n",
       "      <th>4</th>\n",
       "      <td>4</td>\n",
       "      <td>3.0</td>\n",
       "      <td>9.0</td>\n",
       "      <td>37</td>\n",
       "      <td>0.291</td>\n",
       "      <td>0.105</td>\n",
       "      <td>0.604</td>\n",
       "      <td>0.9403</td>\n",
       "    </tr>\n",
       "  </tbody>\n",
       "</table>\n",
       "</div>"
      ],
      "text/plain": [
       "   drugName  condition  rating  usefulCount    pos    neg    neu    comp\n",
       "0         0        0.0     9.0           27  0.000  0.000  1.000  0.0000\n",
       "1         1        1.0     8.0          192  0.215  0.035  0.750  0.9169\n",
       "2         2        2.0     5.0           17  0.133  0.039  0.828  0.8176\n",
       "3         3        2.0     8.0           10  0.161  0.113  0.726  0.5267\n",
       "4         4        3.0     9.0           37  0.291  0.105  0.604  0.9403"
      ]
     },
     "execution_count": 190,
     "metadata": {},
     "output_type": "execute_result"
    }
   ],
   "source": [
    "train_df.head()"
   ]
  },
  {
   "cell_type": "code",
   "execution_count": 191,
   "metadata": {},
   "outputs": [
    {
     "data": {
      "text/html": [
       "<div>\n",
       "<style scoped>\n",
       "    .dataframe tbody tr th:only-of-type {\n",
       "        vertical-align: middle;\n",
       "    }\n",
       "\n",
       "    .dataframe tbody tr th {\n",
       "        vertical-align: top;\n",
       "    }\n",
       "\n",
       "    .dataframe thead th {\n",
       "        text-align: right;\n",
       "    }\n",
       "</style>\n",
       "<table border=\"1\" class=\"dataframe\">\n",
       "  <thead>\n",
       "    <tr style=\"text-align: right;\">\n",
       "      <th></th>\n",
       "      <th>drugName</th>\n",
       "      <th>condition</th>\n",
       "      <th>rating</th>\n",
       "      <th>usefulCount</th>\n",
       "      <th>pos</th>\n",
       "      <th>neg</th>\n",
       "      <th>neu</th>\n",
       "      <th>comp</th>\n",
       "    </tr>\n",
       "  </thead>\n",
       "  <tbody>\n",
       "    <tr>\n",
       "      <th>0</th>\n",
       "      <td>91</td>\n",
       "      <td>9.0</td>\n",
       "      <td>10.0</td>\n",
       "      <td>22</td>\n",
       "      <td>0.281</td>\n",
       "      <td>0.159</td>\n",
       "      <td>0.560</td>\n",
       "      <td>0.7623</td>\n",
       "    </tr>\n",
       "    <tr>\n",
       "      <th>1</th>\n",
       "      <td>425</td>\n",
       "      <td>240.0</td>\n",
       "      <td>8.0</td>\n",
       "      <td>17</td>\n",
       "      <td>0.193</td>\n",
       "      <td>0.073</td>\n",
       "      <td>0.733</td>\n",
       "      <td>0.5574</td>\n",
       "    </tr>\n",
       "    <tr>\n",
       "      <th>2</th>\n",
       "      <td>351</td>\n",
       "      <td>13.0</td>\n",
       "      <td>9.0</td>\n",
       "      <td>3</td>\n",
       "      <td>0.000</td>\n",
       "      <td>0.000</td>\n",
       "      <td>1.000</td>\n",
       "      <td>0.0000</td>\n",
       "    </tr>\n",
       "    <tr>\n",
       "      <th>3</th>\n",
       "      <td>39</td>\n",
       "      <td>74.0</td>\n",
       "      <td>9.0</td>\n",
       "      <td>35</td>\n",
       "      <td>0.177</td>\n",
       "      <td>0.099</td>\n",
       "      <td>0.723</td>\n",
       "      <td>0.6548</td>\n",
       "    </tr>\n",
       "    <tr>\n",
       "      <th>4</th>\n",
       "      <td>1339</td>\n",
       "      <td>2.0</td>\n",
       "      <td>9.0</td>\n",
       "      <td>4</td>\n",
       "      <td>0.250</td>\n",
       "      <td>0.027</td>\n",
       "      <td>0.723</td>\n",
       "      <td>0.9529</td>\n",
       "    </tr>\n",
       "  </tbody>\n",
       "</table>\n",
       "</div>"
      ],
      "text/plain": [
       "   drugName  condition  rating  usefulCount    pos    neg    neu    comp\n",
       "0        91        9.0    10.0           22  0.281  0.159  0.560  0.7623\n",
       "1       425      240.0     8.0           17  0.193  0.073  0.733  0.5574\n",
       "2       351       13.0     9.0            3  0.000  0.000  1.000  0.0000\n",
       "3        39       74.0     9.0           35  0.177  0.099  0.723  0.6548\n",
       "4      1339        2.0     9.0            4  0.250  0.027  0.723  0.9529"
      ]
     },
     "execution_count": 191,
     "metadata": {},
     "output_type": "execute_result"
    }
   ],
   "source": [
    "test_df.head()"
   ]
  },
  {
   "attachments": {},
   "cell_type": "markdown",
   "metadata": {},
   "source": [
    "##### Checking Null Values"
   ]
  },
  {
   "cell_type": "code",
   "execution_count": 192,
   "metadata": {},
   "outputs": [
    {
     "name": "stdout",
     "output_type": "stream",
     "text": [
      "Null values in train_df column wise: \n",
      "drugName         0\n",
      "condition      899\n",
      "rating           0\n",
      "usefulCount      0\n",
      "pos              0\n",
      "neg              0\n",
      "neu              0\n",
      "comp             0\n",
      "dtype: int64\n",
      "Null values in test_df column wise: \n",
      "drugName         0\n",
      "condition      295\n",
      "rating           0\n",
      "usefulCount      0\n",
      "pos              0\n",
      "neg              0\n",
      "neu              0\n",
      "comp             0\n",
      "dtype: int64\n"
     ]
    }
   ],
   "source": [
    "print(\"Null values in train_df column wise: \")\n",
    "print(train_df.isnull().sum())\n",
    "\n",
    "print(\"Null values in test_df column wise: \")\n",
    "print(test_df.isnull().sum())"
   ]
  },
  {
   "attachments": {},
   "cell_type": "markdown",
   "metadata": {},
   "source": [
    "##### Imputing Values in the Condition Column of train_df and test_df (KNN Imputation)"
   ]
  },
  {
   "cell_type": "code",
   "execution_count": 193,
   "metadata": {},
   "outputs": [
    {
     "name": "stdout",
     "output_type": "stream",
     "text": [
      "Null values in train_df column wise: \n",
      "drugName       0\n",
      "condition      0\n",
      "rating         0\n",
      "usefulCount    0\n",
      "pos            0\n",
      "neg            0\n",
      "neu            0\n",
      "comp           0\n",
      "dtype: int64\n",
      "Null values in test_df column wise: \n",
      "drugName       0\n",
      "condition      0\n",
      "rating         0\n",
      "usefulCount    0\n",
      "pos            0\n",
      "neg            0\n",
      "neu            0\n",
      "comp           0\n",
      "dtype: int64\n"
     ]
    }
   ],
   "source": [
    "imputer = KNNImputer(n_neighbors=5)\n",
    "\n",
    "train_df['condition'] = imputer.fit_transform(train_df[['condition']])\n",
    "test_df['condition'] = imputer.transform(test_df[['condition']])\n",
    "\n",
    "print(\"Null values in train_df column wise: \")\n",
    "print(train_df.isnull().sum())\n",
    "\n",
    "print(\"Null values in test_df column wise: \")\n",
    "print(test_df.isnull().sum())"
   ]
  },
  {
   "cell_type": "code",
   "execution_count": 194,
   "metadata": {},
   "outputs": [
    {
     "data": {
      "text/html": [
       "<div>\n",
       "<style scoped>\n",
       "    .dataframe tbody tr th:only-of-type {\n",
       "        vertical-align: middle;\n",
       "    }\n",
       "\n",
       "    .dataframe tbody tr th {\n",
       "        vertical-align: top;\n",
       "    }\n",
       "\n",
       "    .dataframe thead th {\n",
       "        text-align: right;\n",
       "    }\n",
       "</style>\n",
       "<table border=\"1\" class=\"dataframe\">\n",
       "  <thead>\n",
       "    <tr style=\"text-align: right;\">\n",
       "      <th></th>\n",
       "      <th>drugName</th>\n",
       "      <th>condition</th>\n",
       "      <th>rating</th>\n",
       "      <th>usefulCount</th>\n",
       "      <th>pos</th>\n",
       "      <th>neg</th>\n",
       "      <th>neu</th>\n",
       "      <th>comp</th>\n",
       "    </tr>\n",
       "  </thead>\n",
       "  <tbody>\n",
       "    <tr>\n",
       "      <th>0</th>\n",
       "      <td>0</td>\n",
       "      <td>0.0</td>\n",
       "      <td>9.0</td>\n",
       "      <td>27</td>\n",
       "      <td>0.000</td>\n",
       "      <td>0.000</td>\n",
       "      <td>1.000</td>\n",
       "      <td>0.0000</td>\n",
       "    </tr>\n",
       "    <tr>\n",
       "      <th>1</th>\n",
       "      <td>1</td>\n",
       "      <td>1.0</td>\n",
       "      <td>8.0</td>\n",
       "      <td>192</td>\n",
       "      <td>0.215</td>\n",
       "      <td>0.035</td>\n",
       "      <td>0.750</td>\n",
       "      <td>0.9169</td>\n",
       "    </tr>\n",
       "    <tr>\n",
       "      <th>2</th>\n",
       "      <td>2</td>\n",
       "      <td>2.0</td>\n",
       "      <td>5.0</td>\n",
       "      <td>17</td>\n",
       "      <td>0.133</td>\n",
       "      <td>0.039</td>\n",
       "      <td>0.828</td>\n",
       "      <td>0.8176</td>\n",
       "    </tr>\n",
       "    <tr>\n",
       "      <th>3</th>\n",
       "      <td>3</td>\n",
       "      <td>2.0</td>\n",
       "      <td>8.0</td>\n",
       "      <td>10</td>\n",
       "      <td>0.161</td>\n",
       "      <td>0.113</td>\n",
       "      <td>0.726</td>\n",
       "      <td>0.5267</td>\n",
       "    </tr>\n",
       "    <tr>\n",
       "      <th>4</th>\n",
       "      <td>4</td>\n",
       "      <td>3.0</td>\n",
       "      <td>9.0</td>\n",
       "      <td>37</td>\n",
       "      <td>0.291</td>\n",
       "      <td>0.105</td>\n",
       "      <td>0.604</td>\n",
       "      <td>0.9403</td>\n",
       "    </tr>\n",
       "    <tr>\n",
       "      <th>...</th>\n",
       "      <td>...</td>\n",
       "      <td>...</td>\n",
       "      <td>...</td>\n",
       "      <td>...</td>\n",
       "      <td>...</td>\n",
       "      <td>...</td>\n",
       "      <td>...</td>\n",
       "      <td>...</td>\n",
       "    </tr>\n",
       "    <tr>\n",
       "      <th>161292</th>\n",
       "      <td>787</td>\n",
       "      <td>255.0</td>\n",
       "      <td>10.0</td>\n",
       "      <td>125</td>\n",
       "      <td>0.313</td>\n",
       "      <td>0.030</td>\n",
       "      <td>0.657</td>\n",
       "      <td>0.9623</td>\n",
       "    </tr>\n",
       "    <tr>\n",
       "      <th>161293</th>\n",
       "      <td>268</td>\n",
       "      <td>134.0</td>\n",
       "      <td>1.0</td>\n",
       "      <td>34</td>\n",
       "      <td>0.166</td>\n",
       "      <td>0.269</td>\n",
       "      <td>0.565</td>\n",
       "      <td>-0.4767</td>\n",
       "    </tr>\n",
       "    <tr>\n",
       "      <th>161294</th>\n",
       "      <td>831</td>\n",
       "      <td>18.0</td>\n",
       "      <td>2.0</td>\n",
       "      <td>35</td>\n",
       "      <td>0.164</td>\n",
       "      <td>0.563</td>\n",
       "      <td>0.273</td>\n",
       "      <td>-0.7430</td>\n",
       "    </tr>\n",
       "    <tr>\n",
       "      <th>161295</th>\n",
       "      <td>342</td>\n",
       "      <td>47.0</td>\n",
       "      <td>10.0</td>\n",
       "      <td>79</td>\n",
       "      <td>0.236</td>\n",
       "      <td>0.047</td>\n",
       "      <td>0.717</td>\n",
       "      <td>0.9559</td>\n",
       "    </tr>\n",
       "    <tr>\n",
       "      <th>161296</th>\n",
       "      <td>170</td>\n",
       "      <td>75.0</td>\n",
       "      <td>9.0</td>\n",
       "      <td>116</td>\n",
       "      <td>0.233</td>\n",
       "      <td>0.117</td>\n",
       "      <td>0.650</td>\n",
       "      <td>0.7351</td>\n",
       "    </tr>\n",
       "  </tbody>\n",
       "</table>\n",
       "<p>161297 rows × 8 columns</p>\n",
       "</div>"
      ],
      "text/plain": [
       "        drugName  condition  rating  usefulCount    pos    neg    neu    comp\n",
       "0              0        0.0     9.0           27  0.000  0.000  1.000  0.0000\n",
       "1              1        1.0     8.0          192  0.215  0.035  0.750  0.9169\n",
       "2              2        2.0     5.0           17  0.133  0.039  0.828  0.8176\n",
       "3              3        2.0     8.0           10  0.161  0.113  0.726  0.5267\n",
       "4              4        3.0     9.0           37  0.291  0.105  0.604  0.9403\n",
       "...          ...        ...     ...          ...    ...    ...    ...     ...\n",
       "161292       787      255.0    10.0          125  0.313  0.030  0.657  0.9623\n",
       "161293       268      134.0     1.0           34  0.166  0.269  0.565 -0.4767\n",
       "161294       831       18.0     2.0           35  0.164  0.563  0.273 -0.7430\n",
       "161295       342       47.0    10.0           79  0.236  0.047  0.717  0.9559\n",
       "161296       170       75.0     9.0          116  0.233  0.117  0.650  0.7351\n",
       "\n",
       "[161297 rows x 8 columns]"
      ]
     },
     "execution_count": 194,
     "metadata": {},
     "output_type": "execute_result"
    }
   ],
   "source": [
    "train_df"
   ]
  },
  {
   "cell_type": "code",
   "execution_count": 195,
   "metadata": {},
   "outputs": [
    {
     "data": {
      "text/html": [
       "<div>\n",
       "<style scoped>\n",
       "    .dataframe tbody tr th:only-of-type {\n",
       "        vertical-align: middle;\n",
       "    }\n",
       "\n",
       "    .dataframe tbody tr th {\n",
       "        vertical-align: top;\n",
       "    }\n",
       "\n",
       "    .dataframe thead th {\n",
       "        text-align: right;\n",
       "    }\n",
       "</style>\n",
       "<table border=\"1\" class=\"dataframe\">\n",
       "  <thead>\n",
       "    <tr style=\"text-align: right;\">\n",
       "      <th></th>\n",
       "      <th>drugName</th>\n",
       "      <th>condition</th>\n",
       "      <th>rating</th>\n",
       "      <th>usefulCount</th>\n",
       "      <th>pos</th>\n",
       "      <th>neg</th>\n",
       "      <th>neu</th>\n",
       "      <th>comp</th>\n",
       "    </tr>\n",
       "  </thead>\n",
       "  <tbody>\n",
       "    <tr>\n",
       "      <th>0</th>\n",
       "      <td>91</td>\n",
       "      <td>9.0</td>\n",
       "      <td>10.0</td>\n",
       "      <td>22</td>\n",
       "      <td>0.281</td>\n",
       "      <td>0.159</td>\n",
       "      <td>0.560</td>\n",
       "      <td>0.7623</td>\n",
       "    </tr>\n",
       "    <tr>\n",
       "      <th>1</th>\n",
       "      <td>425</td>\n",
       "      <td>240.0</td>\n",
       "      <td>8.0</td>\n",
       "      <td>17</td>\n",
       "      <td>0.193</td>\n",
       "      <td>0.073</td>\n",
       "      <td>0.733</td>\n",
       "      <td>0.5574</td>\n",
       "    </tr>\n",
       "    <tr>\n",
       "      <th>2</th>\n",
       "      <td>351</td>\n",
       "      <td>13.0</td>\n",
       "      <td>9.0</td>\n",
       "      <td>3</td>\n",
       "      <td>0.000</td>\n",
       "      <td>0.000</td>\n",
       "      <td>1.000</td>\n",
       "      <td>0.0000</td>\n",
       "    </tr>\n",
       "    <tr>\n",
       "      <th>3</th>\n",
       "      <td>39</td>\n",
       "      <td>74.0</td>\n",
       "      <td>9.0</td>\n",
       "      <td>35</td>\n",
       "      <td>0.177</td>\n",
       "      <td>0.099</td>\n",
       "      <td>0.723</td>\n",
       "      <td>0.6548</td>\n",
       "    </tr>\n",
       "    <tr>\n",
       "      <th>4</th>\n",
       "      <td>1339</td>\n",
       "      <td>2.0</td>\n",
       "      <td>9.0</td>\n",
       "      <td>4</td>\n",
       "      <td>0.250</td>\n",
       "      <td>0.027</td>\n",
       "      <td>0.723</td>\n",
       "      <td>0.9529</td>\n",
       "    </tr>\n",
       "    <tr>\n",
       "      <th>...</th>\n",
       "      <td>...</td>\n",
       "      <td>...</td>\n",
       "      <td>...</td>\n",
       "      <td>...</td>\n",
       "      <td>...</td>\n",
       "      <td>...</td>\n",
       "      <td>...</td>\n",
       "      <td>...</td>\n",
       "    </tr>\n",
       "    <tr>\n",
       "      <th>53761</th>\n",
       "      <td>641</td>\n",
       "      <td>659.0</td>\n",
       "      <td>10.0</td>\n",
       "      <td>43</td>\n",
       "      <td>0.121</td>\n",
       "      <td>0.222</td>\n",
       "      <td>0.657</td>\n",
       "      <td>-0.8225</td>\n",
       "    </tr>\n",
       "    <tr>\n",
       "      <th>53762</th>\n",
       "      <td>155</td>\n",
       "      <td>40.0</td>\n",
       "      <td>9.0</td>\n",
       "      <td>11</td>\n",
       "      <td>0.237</td>\n",
       "      <td>0.125</td>\n",
       "      <td>0.639</td>\n",
       "      <td>0.8658</td>\n",
       "    </tr>\n",
       "    <tr>\n",
       "      <th>53763</th>\n",
       "      <td>6</td>\n",
       "      <td>2.0</td>\n",
       "      <td>8.0</td>\n",
       "      <td>7</td>\n",
       "      <td>0.075</td>\n",
       "      <td>0.168</td>\n",
       "      <td>0.757</td>\n",
       "      <td>-0.6999</td>\n",
       "    </tr>\n",
       "    <tr>\n",
       "      <th>53764</th>\n",
       "      <td>334</td>\n",
       "      <td>25.0</td>\n",
       "      <td>1.0</td>\n",
       "      <td>20</td>\n",
       "      <td>0.000</td>\n",
       "      <td>0.547</td>\n",
       "      <td>0.453</td>\n",
       "      <td>-0.9260</td>\n",
       "    </tr>\n",
       "    <tr>\n",
       "      <th>53765</th>\n",
       "      <td>874</td>\n",
       "      <td>227.0</td>\n",
       "      <td>9.0</td>\n",
       "      <td>46</td>\n",
       "      <td>0.000</td>\n",
       "      <td>0.000</td>\n",
       "      <td>1.000</td>\n",
       "      <td>0.0000</td>\n",
       "    </tr>\n",
       "  </tbody>\n",
       "</table>\n",
       "<p>53766 rows × 8 columns</p>\n",
       "</div>"
      ],
      "text/plain": [
       "       drugName  condition  rating  usefulCount    pos    neg    neu    comp\n",
       "0            91        9.0    10.0           22  0.281  0.159  0.560  0.7623\n",
       "1           425      240.0     8.0           17  0.193  0.073  0.733  0.5574\n",
       "2           351       13.0     9.0            3  0.000  0.000  1.000  0.0000\n",
       "3            39       74.0     9.0           35  0.177  0.099  0.723  0.6548\n",
       "4          1339        2.0     9.0            4  0.250  0.027  0.723  0.9529\n",
       "...         ...        ...     ...          ...    ...    ...    ...     ...\n",
       "53761       641      659.0    10.0           43  0.121  0.222  0.657 -0.8225\n",
       "53762       155       40.0     9.0           11  0.237  0.125  0.639  0.8658\n",
       "53763         6        2.0     8.0            7  0.075  0.168  0.757 -0.6999\n",
       "53764       334       25.0     1.0           20  0.000  0.547  0.453 -0.9260\n",
       "53765       874      227.0     9.0           46  0.000  0.000  1.000  0.0000\n",
       "\n",
       "[53766 rows x 8 columns]"
      ]
     },
     "execution_count": 195,
     "metadata": {},
     "output_type": "execute_result"
    }
   ],
   "source": [
    "test_df"
   ]
  },
  {
   "attachments": {},
   "cell_type": "markdown",
   "metadata": {},
   "source": [
    "##### Splitting Dataframes in Explanatory and Target Variables"
   ]
  },
  {
   "cell_type": "code",
   "execution_count": 196,
   "metadata": {},
   "outputs": [],
   "source": [
    "X_train = train_df.drop(['rating'], axis=1)\n",
    "Y_train = train_df['rating']\n",
    "\n",
    "X_test = test_df.drop(['rating'], axis=1)\n",
    "Y_test = test_df['rating']"
   ]
  },
  {
   "cell_type": "code",
   "execution_count": 197,
   "metadata": {},
   "outputs": [
    {
     "data": {
      "text/html": [
       "<div>\n",
       "<style scoped>\n",
       "    .dataframe tbody tr th:only-of-type {\n",
       "        vertical-align: middle;\n",
       "    }\n",
       "\n",
       "    .dataframe tbody tr th {\n",
       "        vertical-align: top;\n",
       "    }\n",
       "\n",
       "    .dataframe thead th {\n",
       "        text-align: right;\n",
       "    }\n",
       "</style>\n",
       "<table border=\"1\" class=\"dataframe\">\n",
       "  <thead>\n",
       "    <tr style=\"text-align: right;\">\n",
       "      <th></th>\n",
       "      <th>drugName</th>\n",
       "      <th>condition</th>\n",
       "      <th>usefulCount</th>\n",
       "      <th>pos</th>\n",
       "      <th>neg</th>\n",
       "      <th>neu</th>\n",
       "      <th>comp</th>\n",
       "    </tr>\n",
       "  </thead>\n",
       "  <tbody>\n",
       "    <tr>\n",
       "      <th>0</th>\n",
       "      <td>0</td>\n",
       "      <td>0.0</td>\n",
       "      <td>27</td>\n",
       "      <td>0.000</td>\n",
       "      <td>0.000</td>\n",
       "      <td>1.000</td>\n",
       "      <td>0.0000</td>\n",
       "    </tr>\n",
       "    <tr>\n",
       "      <th>1</th>\n",
       "      <td>1</td>\n",
       "      <td>1.0</td>\n",
       "      <td>192</td>\n",
       "      <td>0.215</td>\n",
       "      <td>0.035</td>\n",
       "      <td>0.750</td>\n",
       "      <td>0.9169</td>\n",
       "    </tr>\n",
       "    <tr>\n",
       "      <th>2</th>\n",
       "      <td>2</td>\n",
       "      <td>2.0</td>\n",
       "      <td>17</td>\n",
       "      <td>0.133</td>\n",
       "      <td>0.039</td>\n",
       "      <td>0.828</td>\n",
       "      <td>0.8176</td>\n",
       "    </tr>\n",
       "    <tr>\n",
       "      <th>3</th>\n",
       "      <td>3</td>\n",
       "      <td>2.0</td>\n",
       "      <td>10</td>\n",
       "      <td>0.161</td>\n",
       "      <td>0.113</td>\n",
       "      <td>0.726</td>\n",
       "      <td>0.5267</td>\n",
       "    </tr>\n",
       "    <tr>\n",
       "      <th>4</th>\n",
       "      <td>4</td>\n",
       "      <td>3.0</td>\n",
       "      <td>37</td>\n",
       "      <td>0.291</td>\n",
       "      <td>0.105</td>\n",
       "      <td>0.604</td>\n",
       "      <td>0.9403</td>\n",
       "    </tr>\n",
       "  </tbody>\n",
       "</table>\n",
       "</div>"
      ],
      "text/plain": [
       "   drugName  condition  usefulCount    pos    neg    neu    comp\n",
       "0         0        0.0           27  0.000  0.000  1.000  0.0000\n",
       "1         1        1.0          192  0.215  0.035  0.750  0.9169\n",
       "2         2        2.0           17  0.133  0.039  0.828  0.8176\n",
       "3         3        2.0           10  0.161  0.113  0.726  0.5267\n",
       "4         4        3.0           37  0.291  0.105  0.604  0.9403"
      ]
     },
     "execution_count": 197,
     "metadata": {},
     "output_type": "execute_result"
    }
   ],
   "source": [
    "X_train.head()"
   ]
  },
  {
   "cell_type": "code",
   "execution_count": 198,
   "metadata": {},
   "outputs": [
    {
     "data": {
      "text/plain": [
       "0    9.0\n",
       "1    8.0\n",
       "2    5.0\n",
       "3    8.0\n",
       "4    9.0\n",
       "Name: rating, dtype: float64"
      ]
     },
     "execution_count": 198,
     "metadata": {},
     "output_type": "execute_result"
    }
   ],
   "source": [
    "Y_train.head()"
   ]
  },
  {
   "cell_type": "code",
   "execution_count": 199,
   "metadata": {},
   "outputs": [
    {
     "data": {
      "text/html": [
       "<div>\n",
       "<style scoped>\n",
       "    .dataframe tbody tr th:only-of-type {\n",
       "        vertical-align: middle;\n",
       "    }\n",
       "\n",
       "    .dataframe tbody tr th {\n",
       "        vertical-align: top;\n",
       "    }\n",
       "\n",
       "    .dataframe thead th {\n",
       "        text-align: right;\n",
       "    }\n",
       "</style>\n",
       "<table border=\"1\" class=\"dataframe\">\n",
       "  <thead>\n",
       "    <tr style=\"text-align: right;\">\n",
       "      <th></th>\n",
       "      <th>drugName</th>\n",
       "      <th>condition</th>\n",
       "      <th>usefulCount</th>\n",
       "      <th>pos</th>\n",
       "      <th>neg</th>\n",
       "      <th>neu</th>\n",
       "      <th>comp</th>\n",
       "    </tr>\n",
       "  </thead>\n",
       "  <tbody>\n",
       "    <tr>\n",
       "      <th>0</th>\n",
       "      <td>91</td>\n",
       "      <td>9.0</td>\n",
       "      <td>22</td>\n",
       "      <td>0.281</td>\n",
       "      <td>0.159</td>\n",
       "      <td>0.560</td>\n",
       "      <td>0.7623</td>\n",
       "    </tr>\n",
       "    <tr>\n",
       "      <th>1</th>\n",
       "      <td>425</td>\n",
       "      <td>240.0</td>\n",
       "      <td>17</td>\n",
       "      <td>0.193</td>\n",
       "      <td>0.073</td>\n",
       "      <td>0.733</td>\n",
       "      <td>0.5574</td>\n",
       "    </tr>\n",
       "    <tr>\n",
       "      <th>2</th>\n",
       "      <td>351</td>\n",
       "      <td>13.0</td>\n",
       "      <td>3</td>\n",
       "      <td>0.000</td>\n",
       "      <td>0.000</td>\n",
       "      <td>1.000</td>\n",
       "      <td>0.0000</td>\n",
       "    </tr>\n",
       "    <tr>\n",
       "      <th>3</th>\n",
       "      <td>39</td>\n",
       "      <td>74.0</td>\n",
       "      <td>35</td>\n",
       "      <td>0.177</td>\n",
       "      <td>0.099</td>\n",
       "      <td>0.723</td>\n",
       "      <td>0.6548</td>\n",
       "    </tr>\n",
       "    <tr>\n",
       "      <th>4</th>\n",
       "      <td>1339</td>\n",
       "      <td>2.0</td>\n",
       "      <td>4</td>\n",
       "      <td>0.250</td>\n",
       "      <td>0.027</td>\n",
       "      <td>0.723</td>\n",
       "      <td>0.9529</td>\n",
       "    </tr>\n",
       "  </tbody>\n",
       "</table>\n",
       "</div>"
      ],
      "text/plain": [
       "   drugName  condition  usefulCount    pos    neg    neu    comp\n",
       "0        91        9.0           22  0.281  0.159  0.560  0.7623\n",
       "1       425      240.0           17  0.193  0.073  0.733  0.5574\n",
       "2       351       13.0            3  0.000  0.000  1.000  0.0000\n",
       "3        39       74.0           35  0.177  0.099  0.723  0.6548\n",
       "4      1339        2.0            4  0.250  0.027  0.723  0.9529"
      ]
     },
     "execution_count": 199,
     "metadata": {},
     "output_type": "execute_result"
    }
   ],
   "source": [
    "X_test.head()"
   ]
  },
  {
   "cell_type": "code",
   "execution_count": 200,
   "metadata": {},
   "outputs": [
    {
     "data": {
      "text/plain": [
       "0    10.0\n",
       "1     8.0\n",
       "2     9.0\n",
       "3     9.0\n",
       "4     9.0\n",
       "Name: rating, dtype: float64"
      ]
     },
     "execution_count": 200,
     "metadata": {},
     "output_type": "execute_result"
    }
   ],
   "source": [
    "Y_test.head()"
   ]
  },
  {
   "attachments": {},
   "cell_type": "markdown",
   "metadata": {},
   "source": [
    "#### Standardize the dataset"
   ]
  },
  {
   "cell_type": "code",
   "execution_count": 201,
   "metadata": {},
   "outputs": [],
   "source": [
    "scaler = StandardScaler()\n",
    "\n",
    "X_train = pd.DataFrame(scaler.fit_transform(X_train))\n",
    "X_test = pd.DataFrame(scaler.transform(X_test))"
   ]
  },
  {
   "cell_type": "code",
   "execution_count": 202,
   "metadata": {},
   "outputs": [
    {
     "data": {
      "text/html": [
       "<div>\n",
       "<style scoped>\n",
       "    .dataframe tbody tr th:only-of-type {\n",
       "        vertical-align: middle;\n",
       "    }\n",
       "\n",
       "    .dataframe tbody tr th {\n",
       "        vertical-align: top;\n",
       "    }\n",
       "\n",
       "    .dataframe thead th {\n",
       "        text-align: right;\n",
       "    }\n",
       "</style>\n",
       "<table border=\"1\" class=\"dataframe\">\n",
       "  <thead>\n",
       "    <tr style=\"text-align: right;\">\n",
       "      <th></th>\n",
       "      <th>0</th>\n",
       "      <th>1</th>\n",
       "      <th>2</th>\n",
       "      <th>3</th>\n",
       "      <th>4</th>\n",
       "      <th>5</th>\n",
       "      <th>6</th>\n",
       "    </tr>\n",
       "  </thead>\n",
       "  <tbody>\n",
       "    <tr>\n",
       "      <th>0</th>\n",
       "      <td>-0.829970</td>\n",
       "      <td>-0.650558</td>\n",
       "      <td>-0.027600</td>\n",
       "      <td>-1.394377</td>\n",
       "      <td>-1.410665</td>\n",
       "      <td>2.460307</td>\n",
       "      <td>0.004281</td>\n",
       "    </tr>\n",
       "    <tr>\n",
       "      <th>1</th>\n",
       "      <td>-0.828033</td>\n",
       "      <td>-0.640671</td>\n",
       "      <td>4.504915</td>\n",
       "      <td>0.298018</td>\n",
       "      <td>-1.119971</td>\n",
       "      <td>0.687906</td>\n",
       "      <td>1.383923</td>\n",
       "    </tr>\n",
       "    <tr>\n",
       "      <th>2</th>\n",
       "      <td>-0.826096</td>\n",
       "      <td>-0.630783</td>\n",
       "      <td>-0.302298</td>\n",
       "      <td>-0.347453</td>\n",
       "      <td>-1.086749</td>\n",
       "      <td>1.240896</td>\n",
       "      <td>1.234508</td>\n",
       "    </tr>\n",
       "    <tr>\n",
       "      <th>3</th>\n",
       "      <td>-0.824159</td>\n",
       "      <td>-0.630783</td>\n",
       "      <td>-0.494587</td>\n",
       "      <td>-0.127048</td>\n",
       "      <td>-0.472141</td>\n",
       "      <td>0.517756</td>\n",
       "      <td>0.796796</td>\n",
       "    </tr>\n",
       "    <tr>\n",
       "      <th>4</th>\n",
       "      <td>-0.822222</td>\n",
       "      <td>-0.620896</td>\n",
       "      <td>0.247097</td>\n",
       "      <td>0.896261</td>\n",
       "      <td>-0.538585</td>\n",
       "      <td>-0.347176</td>\n",
       "      <td>1.419132</td>\n",
       "    </tr>\n",
       "    <tr>\n",
       "      <th>...</th>\n",
       "      <td>...</td>\n",
       "      <td>...</td>\n",
       "      <td>...</td>\n",
       "      <td>...</td>\n",
       "      <td>...</td>\n",
       "      <td>...</td>\n",
       "      <td>...</td>\n",
       "    </tr>\n",
       "    <tr>\n",
       "      <th>161292</th>\n",
       "      <td>0.694456</td>\n",
       "      <td>1.870714</td>\n",
       "      <td>2.664439</td>\n",
       "      <td>1.069436</td>\n",
       "      <td>-1.161499</td>\n",
       "      <td>0.028573</td>\n",
       "      <td>1.452235</td>\n",
       "    </tr>\n",
       "    <tr>\n",
       "      <th>161293</th>\n",
       "      <td>-0.310851</td>\n",
       "      <td>0.674346</td>\n",
       "      <td>0.164688</td>\n",
       "      <td>-0.087690</td>\n",
       "      <td>0.823520</td>\n",
       "      <td>-0.623670</td>\n",
       "      <td>-0.713000</td>\n",
       "    </tr>\n",
       "    <tr>\n",
       "      <th>161294</th>\n",
       "      <td>0.779685</td>\n",
       "      <td>-0.472586</td>\n",
       "      <td>0.192158</td>\n",
       "      <td>-0.103434</td>\n",
       "      <td>3.265342</td>\n",
       "      <td>-2.693834</td>\n",
       "      <td>-1.113697</td>\n",
       "    </tr>\n",
       "    <tr>\n",
       "      <th>161295</th>\n",
       "      <td>-0.167513</td>\n",
       "      <td>-0.185853</td>\n",
       "      <td>1.400829</td>\n",
       "      <td>0.463322</td>\n",
       "      <td>-1.020305</td>\n",
       "      <td>0.453950</td>\n",
       "      <td>1.442605</td>\n",
       "    </tr>\n",
       "    <tr>\n",
       "      <th>161296</th>\n",
       "      <td>-0.500678</td>\n",
       "      <td>0.090993</td>\n",
       "      <td>2.417211</td>\n",
       "      <td>0.439707</td>\n",
       "      <td>-0.438919</td>\n",
       "      <td>-0.021054</td>\n",
       "      <td>1.110372</td>\n",
       "    </tr>\n",
       "  </tbody>\n",
       "</table>\n",
       "<p>161297 rows × 7 columns</p>\n",
       "</div>"
      ],
      "text/plain": [
       "               0         1         2         3         4         5         6\n",
       "0      -0.829970 -0.650558 -0.027600 -1.394377 -1.410665  2.460307  0.004281\n",
       "1      -0.828033 -0.640671  4.504915  0.298018 -1.119971  0.687906  1.383923\n",
       "2      -0.826096 -0.630783 -0.302298 -0.347453 -1.086749  1.240896  1.234508\n",
       "3      -0.824159 -0.630783 -0.494587 -0.127048 -0.472141  0.517756  0.796796\n",
       "4      -0.822222 -0.620896  0.247097  0.896261 -0.538585 -0.347176  1.419132\n",
       "...          ...       ...       ...       ...       ...       ...       ...\n",
       "161292  0.694456  1.870714  2.664439  1.069436 -1.161499  0.028573  1.452235\n",
       "161293 -0.310851  0.674346  0.164688 -0.087690  0.823520 -0.623670 -0.713000\n",
       "161294  0.779685 -0.472586  0.192158 -0.103434  3.265342 -2.693834 -1.113697\n",
       "161295 -0.167513 -0.185853  1.400829  0.463322 -1.020305  0.453950  1.442605\n",
       "161296 -0.500678  0.090993  2.417211  0.439707 -0.438919 -0.021054  1.110372\n",
       "\n",
       "[161297 rows x 7 columns]"
      ]
     },
     "execution_count": 202,
     "metadata": {},
     "output_type": "execute_result"
    }
   ],
   "source": [
    "X_train"
   ]
  },
  {
   "cell_type": "code",
   "execution_count": 203,
   "metadata": {},
   "outputs": [
    {
     "data": {
      "text/html": [
       "<div>\n",
       "<style scoped>\n",
       "    .dataframe tbody tr th:only-of-type {\n",
       "        vertical-align: middle;\n",
       "    }\n",
       "\n",
       "    .dataframe tbody tr th {\n",
       "        vertical-align: top;\n",
       "    }\n",
       "\n",
       "    .dataframe thead th {\n",
       "        text-align: right;\n",
       "    }\n",
       "</style>\n",
       "<table border=\"1\" class=\"dataframe\">\n",
       "  <thead>\n",
       "    <tr style=\"text-align: right;\">\n",
       "      <th></th>\n",
       "      <th>0</th>\n",
       "      <th>1</th>\n",
       "      <th>2</th>\n",
       "      <th>3</th>\n",
       "      <th>4</th>\n",
       "      <th>5</th>\n",
       "      <th>6</th>\n",
       "    </tr>\n",
       "  </thead>\n",
       "  <tbody>\n",
       "    <tr>\n",
       "      <th>0</th>\n",
       "      <td>-0.653702</td>\n",
       "      <td>-0.561572</td>\n",
       "      <td>-0.164949</td>\n",
       "      <td>0.817545</td>\n",
       "      <td>-0.090087</td>\n",
       "      <td>-0.659118</td>\n",
       "      <td>1.151299</td>\n",
       "    </tr>\n",
       "    <tr>\n",
       "      <th>1</th>\n",
       "      <td>-0.006741</td>\n",
       "      <td>1.722404</td>\n",
       "      <td>-0.302298</td>\n",
       "      <td>0.124843</td>\n",
       "      <td>-0.804362</td>\n",
       "      <td>0.567383</td>\n",
       "      <td>0.842990</td>\n",
       "    </tr>\n",
       "    <tr>\n",
       "      <th>2</th>\n",
       "      <td>-0.150080</td>\n",
       "      <td>-0.522023</td>\n",
       "      <td>-0.686875</td>\n",
       "      <td>-1.394377</td>\n",
       "      <td>-1.410665</td>\n",
       "      <td>2.460307</td>\n",
       "      <td>0.004281</td>\n",
       "    </tr>\n",
       "    <tr>\n",
       "      <th>3</th>\n",
       "      <td>-0.754426</td>\n",
       "      <td>0.081105</td>\n",
       "      <td>0.192158</td>\n",
       "      <td>-0.001103</td>\n",
       "      <td>-0.588418</td>\n",
       "      <td>0.496487</td>\n",
       "      <td>0.989546</td>\n",
       "    </tr>\n",
       "    <tr>\n",
       "      <th>4</th>\n",
       "      <td>1.763685</td>\n",
       "      <td>-0.630783</td>\n",
       "      <td>-0.659406</td>\n",
       "      <td>0.573525</td>\n",
       "      <td>-1.186416</td>\n",
       "      <td>0.496487</td>\n",
       "      <td>1.438091</td>\n",
       "    </tr>\n",
       "    <tr>\n",
       "      <th>...</th>\n",
       "      <td>...</td>\n",
       "      <td>...</td>\n",
       "      <td>...</td>\n",
       "      <td>...</td>\n",
       "      <td>...</td>\n",
       "      <td>...</td>\n",
       "      <td>...</td>\n",
       "    </tr>\n",
       "    <tr>\n",
       "      <th>53761</th>\n",
       "      <td>0.411653</td>\n",
       "      <td>5.865201</td>\n",
       "      <td>0.411916</td>\n",
       "      <td>-0.441913</td>\n",
       "      <td>0.433160</td>\n",
       "      <td>0.028573</td>\n",
       "      <td>-1.233319</td>\n",
       "    </tr>\n",
       "    <tr>\n",
       "      <th>53762</th>\n",
       "      <td>-0.529733</td>\n",
       "      <td>-0.255064</td>\n",
       "      <td>-0.467117</td>\n",
       "      <td>0.471194</td>\n",
       "      <td>-0.372475</td>\n",
       "      <td>-0.099040</td>\n",
       "      <td>1.307034</td>\n",
       "    </tr>\n",
       "    <tr>\n",
       "      <th>53763</th>\n",
       "      <td>-0.818348</td>\n",
       "      <td>-0.630783</td>\n",
       "      <td>-0.576996</td>\n",
       "      <td>-0.804007</td>\n",
       "      <td>-0.015338</td>\n",
       "      <td>0.737534</td>\n",
       "      <td>-1.048845</td>\n",
       "    </tr>\n",
       "    <tr>\n",
       "      <th>53764</th>\n",
       "      <td>-0.183009</td>\n",
       "      <td>-0.403374</td>\n",
       "      <td>-0.219889</td>\n",
       "      <td>-1.394377</td>\n",
       "      <td>3.132454</td>\n",
       "      <td>-1.417706</td>\n",
       "      <td>-1.389054</td>\n",
       "    </tr>\n",
       "    <tr>\n",
       "      <th>53765</th>\n",
       "      <td>0.862976</td>\n",
       "      <td>1.593869</td>\n",
       "      <td>0.494326</td>\n",
       "      <td>-1.394377</td>\n",
       "      <td>-1.410665</td>\n",
       "      <td>2.460307</td>\n",
       "      <td>0.004281</td>\n",
       "    </tr>\n",
       "  </tbody>\n",
       "</table>\n",
       "<p>53766 rows × 7 columns</p>\n",
       "</div>"
      ],
      "text/plain": [
       "              0         1         2         3         4         5         6\n",
       "0     -0.653702 -0.561572 -0.164949  0.817545 -0.090087 -0.659118  1.151299\n",
       "1     -0.006741  1.722404 -0.302298  0.124843 -0.804362  0.567383  0.842990\n",
       "2     -0.150080 -0.522023 -0.686875 -1.394377 -1.410665  2.460307  0.004281\n",
       "3     -0.754426  0.081105  0.192158 -0.001103 -0.588418  0.496487  0.989546\n",
       "4      1.763685 -0.630783 -0.659406  0.573525 -1.186416  0.496487  1.438091\n",
       "...         ...       ...       ...       ...       ...       ...       ...\n",
       "53761  0.411653  5.865201  0.411916 -0.441913  0.433160  0.028573 -1.233319\n",
       "53762 -0.529733 -0.255064 -0.467117  0.471194 -0.372475 -0.099040  1.307034\n",
       "53763 -0.818348 -0.630783 -0.576996 -0.804007 -0.015338  0.737534 -1.048845\n",
       "53764 -0.183009 -0.403374 -0.219889 -1.394377  3.132454 -1.417706 -1.389054\n",
       "53765  0.862976  1.593869  0.494326 -1.394377 -1.410665  2.460307  0.004281\n",
       "\n",
       "[53766 rows x 7 columns]"
      ]
     },
     "execution_count": 203,
     "metadata": {},
     "output_type": "execute_result"
    }
   ],
   "source": [
    "X_test"
   ]
  },
  {
   "attachments": {},
   "cell_type": "markdown",
   "metadata": {},
   "source": [
    "##### Normalizing Dataframe"
   ]
  },
  {
   "cell_type": "code",
   "execution_count": 204,
   "metadata": {},
   "outputs": [],
   "source": [
    "normalizer = MinMaxScaler()\n",
    "\n",
    "X_train = pd.DataFrame(normalizer.fit_transform(X_train))\n",
    "X_test = pd.DataFrame(normalizer.transform(X_test))"
   ]
  },
  {
   "cell_type": "code",
   "execution_count": 205,
   "metadata": {},
   "outputs": [
    {
     "data": {
      "text/html": [
       "<div>\n",
       "<style scoped>\n",
       "    .dataframe tbody tr th:only-of-type {\n",
       "        vertical-align: middle;\n",
       "    }\n",
       "\n",
       "    .dataframe tbody tr th {\n",
       "        vertical-align: top;\n",
       "    }\n",
       "\n",
       "    .dataframe thead th {\n",
       "        text-align: right;\n",
       "    }\n",
       "</style>\n",
       "<table border=\"1\" class=\"dataframe\">\n",
       "  <thead>\n",
       "    <tr style=\"text-align: right;\">\n",
       "      <th></th>\n",
       "      <th>0</th>\n",
       "      <th>1</th>\n",
       "      <th>2</th>\n",
       "      <th>3</th>\n",
       "      <th>4</th>\n",
       "      <th>5</th>\n",
       "      <th>6</th>\n",
       "    </tr>\n",
       "  </thead>\n",
       "  <tbody>\n",
       "    <tr>\n",
       "      <th>0</th>\n",
       "      <td>0.000000</td>\n",
       "      <td>0.000000</td>\n",
       "      <td>0.020914</td>\n",
       "      <td>0.000</td>\n",
       "      <td>0.000</td>\n",
       "      <td>1.000</td>\n",
       "      <td>0.501230</td>\n",
       "    </tr>\n",
       "    <tr>\n",
       "      <th>1</th>\n",
       "      <td>0.000291</td>\n",
       "      <td>0.001131</td>\n",
       "      <td>0.148722</td>\n",
       "      <td>0.215</td>\n",
       "      <td>0.035</td>\n",
       "      <td>0.750</td>\n",
       "      <td>0.961452</td>\n",
       "    </tr>\n",
       "    <tr>\n",
       "      <th>2</th>\n",
       "      <td>0.000582</td>\n",
       "      <td>0.002262</td>\n",
       "      <td>0.013168</td>\n",
       "      <td>0.133</td>\n",
       "      <td>0.039</td>\n",
       "      <td>0.828</td>\n",
       "      <td>0.911610</td>\n",
       "    </tr>\n",
       "    <tr>\n",
       "      <th>3</th>\n",
       "      <td>0.000873</td>\n",
       "      <td>0.002262</td>\n",
       "      <td>0.007746</td>\n",
       "      <td>0.161</td>\n",
       "      <td>0.113</td>\n",
       "      <td>0.726</td>\n",
       "      <td>0.765598</td>\n",
       "    </tr>\n",
       "    <tr>\n",
       "      <th>4</th>\n",
       "      <td>0.001164</td>\n",
       "      <td>0.003394</td>\n",
       "      <td>0.028660</td>\n",
       "      <td>0.291</td>\n",
       "      <td>0.105</td>\n",
       "      <td>0.604</td>\n",
       "      <td>0.973197</td>\n",
       "    </tr>\n",
       "    <tr>\n",
       "      <th>...</th>\n",
       "      <td>...</td>\n",
       "      <td>...</td>\n",
       "      <td>...</td>\n",
       "      <td>...</td>\n",
       "      <td>...</td>\n",
       "      <td>...</td>\n",
       "      <td>...</td>\n",
       "    </tr>\n",
       "    <tr>\n",
       "      <th>161292</th>\n",
       "      <td>0.229112</td>\n",
       "      <td>0.288462</td>\n",
       "      <td>0.096824</td>\n",
       "      <td>0.313</td>\n",
       "      <td>0.030</td>\n",
       "      <td>0.657</td>\n",
       "      <td>0.984239</td>\n",
       "    </tr>\n",
       "    <tr>\n",
       "      <th>161293</th>\n",
       "      <td>0.078020</td>\n",
       "      <td>0.151584</td>\n",
       "      <td>0.026336</td>\n",
       "      <td>0.166</td>\n",
       "      <td>0.269</td>\n",
       "      <td>0.565</td>\n",
       "      <td>0.261959</td>\n",
       "    </tr>\n",
       "    <tr>\n",
       "      <th>161294</th>\n",
       "      <td>0.241921</td>\n",
       "      <td>0.020362</td>\n",
       "      <td>0.027111</td>\n",
       "      <td>0.164</td>\n",
       "      <td>0.563</td>\n",
       "      <td>0.273</td>\n",
       "      <td>0.128294</td>\n",
       "    </tr>\n",
       "    <tr>\n",
       "      <th>161295</th>\n",
       "      <td>0.099563</td>\n",
       "      <td>0.053167</td>\n",
       "      <td>0.061193</td>\n",
       "      <td>0.236</td>\n",
       "      <td>0.047</td>\n",
       "      <td>0.717</td>\n",
       "      <td>0.981027</td>\n",
       "    </tr>\n",
       "    <tr>\n",
       "      <th>161296</th>\n",
       "      <td>0.049491</td>\n",
       "      <td>0.084842</td>\n",
       "      <td>0.089853</td>\n",
       "      <td>0.233</td>\n",
       "      <td>0.117</td>\n",
       "      <td>0.650</td>\n",
       "      <td>0.870200</td>\n",
       "    </tr>\n",
       "  </tbody>\n",
       "</table>\n",
       "<p>161297 rows × 7 columns</p>\n",
       "</div>"
      ],
      "text/plain": [
       "               0         1         2      3      4      5         6\n",
       "0       0.000000  0.000000  0.020914  0.000  0.000  1.000  0.501230\n",
       "1       0.000291  0.001131  0.148722  0.215  0.035  0.750  0.961452\n",
       "2       0.000582  0.002262  0.013168  0.133  0.039  0.828  0.911610\n",
       "3       0.000873  0.002262  0.007746  0.161  0.113  0.726  0.765598\n",
       "4       0.001164  0.003394  0.028660  0.291  0.105  0.604  0.973197\n",
       "...          ...       ...       ...    ...    ...    ...       ...\n",
       "161292  0.229112  0.288462  0.096824  0.313  0.030  0.657  0.984239\n",
       "161293  0.078020  0.151584  0.026336  0.166  0.269  0.565  0.261959\n",
       "161294  0.241921  0.020362  0.027111  0.164  0.563  0.273  0.128294\n",
       "161295  0.099563  0.053167  0.061193  0.236  0.047  0.717  0.981027\n",
       "161296  0.049491  0.084842  0.089853  0.233  0.117  0.650  0.870200\n",
       "\n",
       "[161297 rows x 7 columns]"
      ]
     },
     "execution_count": 205,
     "metadata": {},
     "output_type": "execute_result"
    }
   ],
   "source": [
    "X_train"
   ]
  },
  {
   "cell_type": "code",
   "execution_count": 206,
   "metadata": {},
   "outputs": [
    {
     "data": {
      "text/html": [
       "<div>\n",
       "<style scoped>\n",
       "    .dataframe tbody tr th:only-of-type {\n",
       "        vertical-align: middle;\n",
       "    }\n",
       "\n",
       "    .dataframe tbody tr th {\n",
       "        vertical-align: top;\n",
       "    }\n",
       "\n",
       "    .dataframe thead th {\n",
       "        text-align: right;\n",
       "    }\n",
       "</style>\n",
       "<table border=\"1\" class=\"dataframe\">\n",
       "  <thead>\n",
       "    <tr style=\"text-align: right;\">\n",
       "      <th></th>\n",
       "      <th>0</th>\n",
       "      <th>1</th>\n",
       "      <th>2</th>\n",
       "      <th>3</th>\n",
       "      <th>4</th>\n",
       "      <th>5</th>\n",
       "      <th>6</th>\n",
       "    </tr>\n",
       "  </thead>\n",
       "  <tbody>\n",
       "    <tr>\n",
       "      <th>0</th>\n",
       "      <td>0.026492</td>\n",
       "      <td>0.010181</td>\n",
       "      <td>0.017041</td>\n",
       "      <td>0.281</td>\n",
       "      <td>0.159</td>\n",
       "      <td>0.560</td>\n",
       "      <td>0.883853</td>\n",
       "    </tr>\n",
       "    <tr>\n",
       "      <th>1</th>\n",
       "      <td>0.123726</td>\n",
       "      <td>0.271493</td>\n",
       "      <td>0.013168</td>\n",
       "      <td>0.193</td>\n",
       "      <td>0.073</td>\n",
       "      <td>0.733</td>\n",
       "      <td>0.781007</td>\n",
       "    </tr>\n",
       "    <tr>\n",
       "      <th>2</th>\n",
       "      <td>0.102183</td>\n",
       "      <td>0.014706</td>\n",
       "      <td>0.002324</td>\n",
       "      <td>0.000</td>\n",
       "      <td>0.000</td>\n",
       "      <td>1.000</td>\n",
       "      <td>0.501230</td>\n",
       "    </tr>\n",
       "    <tr>\n",
       "      <th>3</th>\n",
       "      <td>0.011354</td>\n",
       "      <td>0.083710</td>\n",
       "      <td>0.027111</td>\n",
       "      <td>0.177</td>\n",
       "      <td>0.099</td>\n",
       "      <td>0.723</td>\n",
       "      <td>0.829895</td>\n",
       "    </tr>\n",
       "    <tr>\n",
       "      <th>4</th>\n",
       "      <td>0.389811</td>\n",
       "      <td>0.002262</td>\n",
       "      <td>0.003098</td>\n",
       "      <td>0.250</td>\n",
       "      <td>0.027</td>\n",
       "      <td>0.723</td>\n",
       "      <td>0.979521</td>\n",
       "    </tr>\n",
       "    <tr>\n",
       "      <th>...</th>\n",
       "      <td>...</td>\n",
       "      <td>...</td>\n",
       "      <td>...</td>\n",
       "      <td>...</td>\n",
       "      <td>...</td>\n",
       "      <td>...</td>\n",
       "      <td>...</td>\n",
       "    </tr>\n",
       "    <tr>\n",
       "      <th>53761</th>\n",
       "      <td>0.186608</td>\n",
       "      <td>0.745475</td>\n",
       "      <td>0.033308</td>\n",
       "      <td>0.121</td>\n",
       "      <td>0.222</td>\n",
       "      <td>0.657</td>\n",
       "      <td>0.088390</td>\n",
       "    </tr>\n",
       "    <tr>\n",
       "      <th>53762</th>\n",
       "      <td>0.045124</td>\n",
       "      <td>0.045249</td>\n",
       "      <td>0.008521</td>\n",
       "      <td>0.237</td>\n",
       "      <td>0.125</td>\n",
       "      <td>0.639</td>\n",
       "      <td>0.935803</td>\n",
       "    </tr>\n",
       "    <tr>\n",
       "      <th>53763</th>\n",
       "      <td>0.001747</td>\n",
       "      <td>0.002262</td>\n",
       "      <td>0.005422</td>\n",
       "      <td>0.075</td>\n",
       "      <td>0.168</td>\n",
       "      <td>0.757</td>\n",
       "      <td>0.149927</td>\n",
       "    </tr>\n",
       "    <tr>\n",
       "      <th>53764</th>\n",
       "      <td>0.097234</td>\n",
       "      <td>0.028281</td>\n",
       "      <td>0.015492</td>\n",
       "      <td>0.000</td>\n",
       "      <td>0.547</td>\n",
       "      <td>0.453</td>\n",
       "      <td>0.036440</td>\n",
       "    </tr>\n",
       "    <tr>\n",
       "      <th>53765</th>\n",
       "      <td>0.254440</td>\n",
       "      <td>0.256787</td>\n",
       "      <td>0.035631</td>\n",
       "      <td>0.000</td>\n",
       "      <td>0.000</td>\n",
       "      <td>1.000</td>\n",
       "      <td>0.501230</td>\n",
       "    </tr>\n",
       "  </tbody>\n",
       "</table>\n",
       "<p>53766 rows × 7 columns</p>\n",
       "</div>"
      ],
      "text/plain": [
       "              0         1         2      3      4      5         6\n",
       "0      0.026492  0.010181  0.017041  0.281  0.159  0.560  0.883853\n",
       "1      0.123726  0.271493  0.013168  0.193  0.073  0.733  0.781007\n",
       "2      0.102183  0.014706  0.002324  0.000  0.000  1.000  0.501230\n",
       "3      0.011354  0.083710  0.027111  0.177  0.099  0.723  0.829895\n",
       "4      0.389811  0.002262  0.003098  0.250  0.027  0.723  0.979521\n",
       "...         ...       ...       ...    ...    ...    ...       ...\n",
       "53761  0.186608  0.745475  0.033308  0.121  0.222  0.657  0.088390\n",
       "53762  0.045124  0.045249  0.008521  0.237  0.125  0.639  0.935803\n",
       "53763  0.001747  0.002262  0.005422  0.075  0.168  0.757  0.149927\n",
       "53764  0.097234  0.028281  0.015492  0.000  0.547  0.453  0.036440\n",
       "53765  0.254440  0.256787  0.035631  0.000  0.000  1.000  0.501230\n",
       "\n",
       "[53766 rows x 7 columns]"
      ]
     },
     "execution_count": 206,
     "metadata": {},
     "output_type": "execute_result"
    }
   ],
   "source": [
    "X_test"
   ]
  },
  {
   "cell_type": "code",
   "execution_count": 207,
   "metadata": {},
   "outputs": [],
   "source": [
    "X_train.columns = ['drugName', 'condition', 'usefulCount', 'pos', 'neg', 'neu', 'comp']\n",
    "\n",
    "X_test.columns = ['drugName', 'condition', 'usefulCount', 'pos', 'neg', 'neu', 'comp']"
   ]
  },
  {
   "attachments": {},
   "cell_type": "markdown",
   "metadata": {},
   "source": [
    "# EDA"
   ]
  },
  {
   "attachments": {},
   "cell_type": "markdown",
   "metadata": {},
   "source": [
    "### Summary and Stats"
   ]
  },
  {
   "cell_type": "code",
   "execution_count": 208,
   "metadata": {},
   "outputs": [
    {
     "data": {
      "text/html": [
       "<div>\n",
       "<style scoped>\n",
       "    .dataframe tbody tr th:only-of-type {\n",
       "        vertical-align: middle;\n",
       "    }\n",
       "\n",
       "    .dataframe tbody tr th {\n",
       "        vertical-align: top;\n",
       "    }\n",
       "\n",
       "    .dataframe thead th {\n",
       "        text-align: right;\n",
       "    }\n",
       "</style>\n",
       "<table border=\"1\" class=\"dataframe\">\n",
       "  <thead>\n",
       "    <tr style=\"text-align: right;\">\n",
       "      <th></th>\n",
       "      <th>drugName</th>\n",
       "      <th>condition</th>\n",
       "      <th>usefulCount</th>\n",
       "      <th>pos</th>\n",
       "      <th>neg</th>\n",
       "      <th>neu</th>\n",
       "      <th>comp</th>\n",
       "      <th>rating</th>\n",
       "    </tr>\n",
       "  </thead>\n",
       "  <tbody>\n",
       "    <tr>\n",
       "      <th>count</th>\n",
       "      <td>161297.000000</td>\n",
       "      <td>161297.000000</td>\n",
       "      <td>161297.000000</td>\n",
       "      <td>161297.000000</td>\n",
       "      <td>161297.000000</td>\n",
       "      <td>161297.000000</td>\n",
       "      <td>161297.000000</td>\n",
       "      <td>161297.000000</td>\n",
       "    </tr>\n",
       "    <tr>\n",
       "      <th>mean</th>\n",
       "      <td>0.124739</td>\n",
       "      <td>0.074431</td>\n",
       "      <td>0.021692</td>\n",
       "      <td>0.177140</td>\n",
       "      <td>0.169847</td>\n",
       "      <td>0.652970</td>\n",
       "      <td>0.499802</td>\n",
       "      <td>6.994377</td>\n",
       "    </tr>\n",
       "    <tr>\n",
       "      <th>std</th>\n",
       "      <td>0.150294</td>\n",
       "      <td>0.114411</td>\n",
       "      <td>0.028198</td>\n",
       "      <td>0.127039</td>\n",
       "      <td>0.120402</td>\n",
       "      <td>0.141052</td>\n",
       "      <td>0.333582</td>\n",
       "      <td>3.272329</td>\n",
       "    </tr>\n",
       "    <tr>\n",
       "      <th>min</th>\n",
       "      <td>0.000000</td>\n",
       "      <td>0.000000</td>\n",
       "      <td>0.000000</td>\n",
       "      <td>0.000000</td>\n",
       "      <td>0.000000</td>\n",
       "      <td>0.000000</td>\n",
       "      <td>0.000000</td>\n",
       "      <td>1.000000</td>\n",
       "    </tr>\n",
       "    <tr>\n",
       "      <th>25%</th>\n",
       "      <td>0.027074</td>\n",
       "      <td>0.006787</td>\n",
       "      <td>0.004648</td>\n",
       "      <td>0.096000</td>\n",
       "      <td>0.085000</td>\n",
       "      <td>0.572000</td>\n",
       "      <td>0.163479</td>\n",
       "      <td>5.000000</td>\n",
       "    </tr>\n",
       "    <tr>\n",
       "      <th>50%</th>\n",
       "      <td>0.071325</td>\n",
       "      <td>0.032805</td>\n",
       "      <td>0.012393</td>\n",
       "      <td>0.162000</td>\n",
       "      <td>0.159000</td>\n",
       "      <td>0.656000</td>\n",
       "      <td>0.501230</td>\n",
       "      <td>8.000000</td>\n",
       "    </tr>\n",
       "    <tr>\n",
       "      <th>75%</th>\n",
       "      <td>0.161281</td>\n",
       "      <td>0.083710</td>\n",
       "      <td>0.027885</td>\n",
       "      <td>0.237000</td>\n",
       "      <td>0.240000</td>\n",
       "      <td>0.739000</td>\n",
       "      <td>0.826783</td>\n",
       "      <td>10.000000</td>\n",
       "    </tr>\n",
       "    <tr>\n",
       "      <th>max</th>\n",
       "      <td>1.000000</td>\n",
       "      <td>1.000000</td>\n",
       "      <td>1.000000</td>\n",
       "      <td>1.000000</td>\n",
       "      <td>1.000000</td>\n",
       "      <td>1.000000</td>\n",
       "      <td>1.000000</td>\n",
       "      <td>10.000000</td>\n",
       "    </tr>\n",
       "  </tbody>\n",
       "</table>\n",
       "</div>"
      ],
      "text/plain": [
       "            drugName      condition    usefulCount            pos  \\\n",
       "count  161297.000000  161297.000000  161297.000000  161297.000000   \n",
       "mean        0.124739       0.074431       0.021692       0.177140   \n",
       "std         0.150294       0.114411       0.028198       0.127039   \n",
       "min         0.000000       0.000000       0.000000       0.000000   \n",
       "25%         0.027074       0.006787       0.004648       0.096000   \n",
       "50%         0.071325       0.032805       0.012393       0.162000   \n",
       "75%         0.161281       0.083710       0.027885       0.237000   \n",
       "max         1.000000       1.000000       1.000000       1.000000   \n",
       "\n",
       "                 neg            neu           comp         rating  \n",
       "count  161297.000000  161297.000000  161297.000000  161297.000000  \n",
       "mean        0.169847       0.652970       0.499802       6.994377  \n",
       "std         0.120402       0.141052       0.333582       3.272329  \n",
       "min         0.000000       0.000000       0.000000       1.000000  \n",
       "25%         0.085000       0.572000       0.163479       5.000000  \n",
       "50%         0.159000       0.656000       0.501230       8.000000  \n",
       "75%         0.240000       0.739000       0.826783      10.000000  \n",
       "max         1.000000       1.000000       1.000000      10.000000  "
      ]
     },
     "execution_count": 208,
     "metadata": {},
     "output_type": "execute_result"
    }
   ],
   "source": [
    "train_df = pd.concat([X_train, Y_train], axis=1)\n",
    "\n",
    "train_df.describe()"
   ]
  },
  {
   "cell_type": "code",
   "execution_count": 209,
   "metadata": {},
   "outputs": [
    {
     "data": {
      "text/plain": [
       "(161297, 8)"
      ]
     },
     "execution_count": 209,
     "metadata": {},
     "output_type": "execute_result"
    }
   ],
   "source": [
    "train_df.shape"
   ]
  },
  {
   "cell_type": "code",
   "execution_count": 210,
   "metadata": {},
   "outputs": [
    {
     "data": {
      "text/html": [
       "<div>\n",
       "<style scoped>\n",
       "    .dataframe tbody tr th:only-of-type {\n",
       "        vertical-align: middle;\n",
       "    }\n",
       "\n",
       "    .dataframe tbody tr th {\n",
       "        vertical-align: top;\n",
       "    }\n",
       "\n",
       "    .dataframe thead th {\n",
       "        text-align: right;\n",
       "    }\n",
       "</style>\n",
       "<table border=\"1\" class=\"dataframe\">\n",
       "  <thead>\n",
       "    <tr style=\"text-align: right;\">\n",
       "      <th></th>\n",
       "      <th>Null Values</th>\n",
       "    </tr>\n",
       "  </thead>\n",
       "  <tbody>\n",
       "    <tr>\n",
       "      <th>drugName</th>\n",
       "      <td>0</td>\n",
       "    </tr>\n",
       "    <tr>\n",
       "      <th>condition</th>\n",
       "      <td>0</td>\n",
       "    </tr>\n",
       "    <tr>\n",
       "      <th>usefulCount</th>\n",
       "      <td>0</td>\n",
       "    </tr>\n",
       "    <tr>\n",
       "      <th>pos</th>\n",
       "      <td>0</td>\n",
       "    </tr>\n",
       "    <tr>\n",
       "      <th>neg</th>\n",
       "      <td>0</td>\n",
       "    </tr>\n",
       "    <tr>\n",
       "      <th>neu</th>\n",
       "      <td>0</td>\n",
       "    </tr>\n",
       "    <tr>\n",
       "      <th>comp</th>\n",
       "      <td>0</td>\n",
       "    </tr>\n",
       "    <tr>\n",
       "      <th>rating</th>\n",
       "      <td>0</td>\n",
       "    </tr>\n",
       "  </tbody>\n",
       "</table>\n",
       "</div>"
      ],
      "text/plain": [
       "             Null Values\n",
       "drugName               0\n",
       "condition              0\n",
       "usefulCount            0\n",
       "pos                    0\n",
       "neg                    0\n",
       "neu                    0\n",
       "comp                   0\n",
       "rating                 0"
      ]
     },
     "execution_count": 210,
     "metadata": {},
     "output_type": "execute_result"
    }
   ],
   "source": [
    "pd.DataFrame(train_df.isnull().sum(), columns=['Null Values'])"
   ]
  },
  {
   "attachments": {},
   "cell_type": "markdown",
   "metadata": {},
   "source": [
    "##### Zero Counts"
   ]
  },
  {
   "cell_type": "code",
   "execution_count": 211,
   "metadata": {},
   "outputs": [
    {
     "data": {
      "text/html": [
       "<div>\n",
       "<style scoped>\n",
       "    .dataframe tbody tr th:only-of-type {\n",
       "        vertical-align: middle;\n",
       "    }\n",
       "\n",
       "    .dataframe tbody tr th {\n",
       "        vertical-align: top;\n",
       "    }\n",
       "\n",
       "    .dataframe thead th {\n",
       "        text-align: right;\n",
       "    }\n",
       "</style>\n",
       "<table border=\"1\" class=\"dataframe\">\n",
       "  <thead>\n",
       "    <tr style=\"text-align: right;\">\n",
       "      <th></th>\n",
       "      <th>Zero Values</th>\n",
       "    </tr>\n",
       "  </thead>\n",
       "  <tbody>\n",
       "    <tr>\n",
       "      <th>drugName</th>\n",
       "      <td>69</td>\n",
       "    </tr>\n",
       "    <tr>\n",
       "      <th>condition</th>\n",
       "      <td>19</td>\n",
       "    </tr>\n",
       "    <tr>\n",
       "      <th>usefulCount</th>\n",
       "      <td>6318</td>\n",
       "    </tr>\n",
       "    <tr>\n",
       "      <th>pos</th>\n",
       "      <td>15038</td>\n",
       "    </tr>\n",
       "    <tr>\n",
       "      <th>neg</th>\n",
       "      <td>20290</td>\n",
       "    </tr>\n",
       "    <tr>\n",
       "      <th>neu</th>\n",
       "      <td>465</td>\n",
       "    </tr>\n",
       "    <tr>\n",
       "      <th>comp</th>\n",
       "      <td>1</td>\n",
       "    </tr>\n",
       "    <tr>\n",
       "      <th>rating</th>\n",
       "      <td>0</td>\n",
       "    </tr>\n",
       "  </tbody>\n",
       "</table>\n",
       "</div>"
      ],
      "text/plain": [
       "             Zero Values\n",
       "drugName              69\n",
       "condition             19\n",
       "usefulCount         6318\n",
       "pos                15038\n",
       "neg                20290\n",
       "neu                  465\n",
       "comp                   1\n",
       "rating                 0"
      ]
     },
     "execution_count": 211,
     "metadata": {},
     "output_type": "execute_result"
    }
   ],
   "source": [
    "zero_counts = (train_df == 0).sum(axis=0)\n",
    "pd.DataFrame(zero_counts, columns=['Zero Values'])"
   ]
  },
  {
   "cell_type": "code",
   "execution_count": 212,
   "metadata": {},
   "outputs": [],
   "source": [
    "# Remove comp with 0 values\n",
    "\n",
    "train_df = train_df[train_df['comp'] != 0]"
   ]
  },
  {
   "cell_type": "code",
   "execution_count": 213,
   "metadata": {},
   "outputs": [
    {
     "data": {
      "text/plain": [
       "(161296, 8)"
      ]
     },
     "execution_count": 213,
     "metadata": {},
     "output_type": "execute_result"
    }
   ],
   "source": [
    "train_df.shape"
   ]
  },
  {
   "cell_type": "code",
   "execution_count": 214,
   "metadata": {},
   "outputs": [],
   "source": [
    "X_train = train_df.drop(['rating'], axis=1)\n",
    "\n",
    "Y_train = train_df['rating']"
   ]
  },
  {
   "cell_type": "code",
   "execution_count": 215,
   "metadata": {},
   "outputs": [
    {
     "data": {
      "text/html": [
       "<div>\n",
       "<style scoped>\n",
       "    .dataframe tbody tr th:only-of-type {\n",
       "        vertical-align: middle;\n",
       "    }\n",
       "\n",
       "    .dataframe tbody tr th {\n",
       "        vertical-align: top;\n",
       "    }\n",
       "\n",
       "    .dataframe thead th {\n",
       "        text-align: right;\n",
       "    }\n",
       "</style>\n",
       "<table border=\"1\" class=\"dataframe\">\n",
       "  <thead>\n",
       "    <tr style=\"text-align: right;\">\n",
       "      <th></th>\n",
       "      <th>drugName</th>\n",
       "      <th>condition</th>\n",
       "      <th>usefulCount</th>\n",
       "      <th>pos</th>\n",
       "      <th>neg</th>\n",
       "      <th>neu</th>\n",
       "      <th>comp</th>\n",
       "    </tr>\n",
       "  </thead>\n",
       "  <tbody>\n",
       "    <tr>\n",
       "      <th>0</th>\n",
       "      <td>0.000000</td>\n",
       "      <td>0.000000</td>\n",
       "      <td>0.020914</td>\n",
       "      <td>0.000</td>\n",
       "      <td>0.000</td>\n",
       "      <td>1.000</td>\n",
       "      <td>0.501230</td>\n",
       "    </tr>\n",
       "    <tr>\n",
       "      <th>1</th>\n",
       "      <td>0.000291</td>\n",
       "      <td>0.001131</td>\n",
       "      <td>0.148722</td>\n",
       "      <td>0.215</td>\n",
       "      <td>0.035</td>\n",
       "      <td>0.750</td>\n",
       "      <td>0.961452</td>\n",
       "    </tr>\n",
       "    <tr>\n",
       "      <th>2</th>\n",
       "      <td>0.000582</td>\n",
       "      <td>0.002262</td>\n",
       "      <td>0.013168</td>\n",
       "      <td>0.133</td>\n",
       "      <td>0.039</td>\n",
       "      <td>0.828</td>\n",
       "      <td>0.911610</td>\n",
       "    </tr>\n",
       "    <tr>\n",
       "      <th>3</th>\n",
       "      <td>0.000873</td>\n",
       "      <td>0.002262</td>\n",
       "      <td>0.007746</td>\n",
       "      <td>0.161</td>\n",
       "      <td>0.113</td>\n",
       "      <td>0.726</td>\n",
       "      <td>0.765598</td>\n",
       "    </tr>\n",
       "    <tr>\n",
       "      <th>4</th>\n",
       "      <td>0.001164</td>\n",
       "      <td>0.003394</td>\n",
       "      <td>0.028660</td>\n",
       "      <td>0.291</td>\n",
       "      <td>0.105</td>\n",
       "      <td>0.604</td>\n",
       "      <td>0.973197</td>\n",
       "    </tr>\n",
       "    <tr>\n",
       "      <th>...</th>\n",
       "      <td>...</td>\n",
       "      <td>...</td>\n",
       "      <td>...</td>\n",
       "      <td>...</td>\n",
       "      <td>...</td>\n",
       "      <td>...</td>\n",
       "      <td>...</td>\n",
       "    </tr>\n",
       "    <tr>\n",
       "      <th>161292</th>\n",
       "      <td>0.229112</td>\n",
       "      <td>0.288462</td>\n",
       "      <td>0.096824</td>\n",
       "      <td>0.313</td>\n",
       "      <td>0.030</td>\n",
       "      <td>0.657</td>\n",
       "      <td>0.984239</td>\n",
       "    </tr>\n",
       "    <tr>\n",
       "      <th>161293</th>\n",
       "      <td>0.078020</td>\n",
       "      <td>0.151584</td>\n",
       "      <td>0.026336</td>\n",
       "      <td>0.166</td>\n",
       "      <td>0.269</td>\n",
       "      <td>0.565</td>\n",
       "      <td>0.261959</td>\n",
       "    </tr>\n",
       "    <tr>\n",
       "      <th>161294</th>\n",
       "      <td>0.241921</td>\n",
       "      <td>0.020362</td>\n",
       "      <td>0.027111</td>\n",
       "      <td>0.164</td>\n",
       "      <td>0.563</td>\n",
       "      <td>0.273</td>\n",
       "      <td>0.128294</td>\n",
       "    </tr>\n",
       "    <tr>\n",
       "      <th>161295</th>\n",
       "      <td>0.099563</td>\n",
       "      <td>0.053167</td>\n",
       "      <td>0.061193</td>\n",
       "      <td>0.236</td>\n",
       "      <td>0.047</td>\n",
       "      <td>0.717</td>\n",
       "      <td>0.981027</td>\n",
       "    </tr>\n",
       "    <tr>\n",
       "      <th>161296</th>\n",
       "      <td>0.049491</td>\n",
       "      <td>0.084842</td>\n",
       "      <td>0.089853</td>\n",
       "      <td>0.233</td>\n",
       "      <td>0.117</td>\n",
       "      <td>0.650</td>\n",
       "      <td>0.870200</td>\n",
       "    </tr>\n",
       "  </tbody>\n",
       "</table>\n",
       "<p>161296 rows × 7 columns</p>\n",
       "</div>"
      ],
      "text/plain": [
       "        drugName  condition  usefulCount    pos    neg    neu      comp\n",
       "0       0.000000   0.000000     0.020914  0.000  0.000  1.000  0.501230\n",
       "1       0.000291   0.001131     0.148722  0.215  0.035  0.750  0.961452\n",
       "2       0.000582   0.002262     0.013168  0.133  0.039  0.828  0.911610\n",
       "3       0.000873   0.002262     0.007746  0.161  0.113  0.726  0.765598\n",
       "4       0.001164   0.003394     0.028660  0.291  0.105  0.604  0.973197\n",
       "...          ...        ...          ...    ...    ...    ...       ...\n",
       "161292  0.229112   0.288462     0.096824  0.313  0.030  0.657  0.984239\n",
       "161293  0.078020   0.151584     0.026336  0.166  0.269  0.565  0.261959\n",
       "161294  0.241921   0.020362     0.027111  0.164  0.563  0.273  0.128294\n",
       "161295  0.099563   0.053167     0.061193  0.236  0.047  0.717  0.981027\n",
       "161296  0.049491   0.084842     0.089853  0.233  0.117  0.650  0.870200\n",
       "\n",
       "[161296 rows x 7 columns]"
      ]
     },
     "execution_count": 215,
     "metadata": {},
     "output_type": "execute_result"
    }
   ],
   "source": [
    "X_train"
   ]
  },
  {
   "cell_type": "code",
   "execution_count": 216,
   "metadata": {},
   "outputs": [
    {
     "data": {
      "text/plain": [
       "0          9.0\n",
       "1          8.0\n",
       "2          5.0\n",
       "3          8.0\n",
       "4          9.0\n",
       "          ... \n",
       "161292    10.0\n",
       "161293     1.0\n",
       "161294     2.0\n",
       "161295    10.0\n",
       "161296     9.0\n",
       "Name: rating, Length: 161296, dtype: float64"
      ]
     },
     "execution_count": 216,
     "metadata": {},
     "output_type": "execute_result"
    }
   ],
   "source": [
    "Y_train"
   ]
  },
  {
   "attachments": {},
   "cell_type": "markdown",
   "metadata": {},
   "source": [
    "### Visualization"
   ]
  },
  {
   "attachments": {},
   "cell_type": "markdown",
   "metadata": {},
   "source": [
    "##### Box Plot"
   ]
  },
  {
   "cell_type": "code",
   "execution_count": 222,
   "metadata": {},
   "outputs": [
    {
     "data": {
      "image/png": "[encoded data removed]",
      "text/plain": [
       "<Figure size 2000x2000 with 1 Axes>"
      ]
     },
     "metadata": {},
     "output_type": "display_data"
    }
   ],
   "source": [
    "featues = ['pos', 'neg', 'neu', 'comp']\n",
    "\n",
    "plt.figure(figsize=(20, 20))\n",
    "train_df.boxplot(column=featues)\n",
    "plt.title(\"Boxplot of {}, {}, {} and {}\".format(*featues))\n",
    "plt.ylabel(\"Values\")\n",
    "plt.show()"
   ]
  },
  {
   "cell_type": "code",
   "execution_count": 224,
   "metadata": {},
   "outputs": [
    {
     "data": {
      "text/plain": [
       "<AxesSubplot: xlabel='rating', ylabel='pos'>"
      ]
     },
     "execution_count": 224,
     "metadata": {},
     "output_type": "execute_result"
    },
    {
     "data": {
      "image/png": "[encoded data removed]",
      "text/plain": [
       "<Figure size 640x480 with 1 Axes>"
      ]
     },
     "metadata": {},
     "output_type": "display_data"
    }
   ],
   "source": [
    "sns.boxplot(x=train_df['rating'], y=train_df['pos'])"
   ]
  },
  {
   "cell_type": "code",
   "execution_count": 225,
   "metadata": {},
   "outputs": [
    {
     "data": {
      "text/plain": [
       "<AxesSubplot: xlabel='rating', ylabel='neg'>"
      ]
     },
     "execution_count": 225,
     "metadata": {},
     "output_type": "execute_result"
    },
    {
     "data": {
      "image/png": "[encoded data removed]",
      "text/plain": [
       "<Figure size 640x480 with 1 Axes>"
      ]
     },
     "metadata": {},
     "output_type": "display_data"
    }
   ],
   "source": [
    "sns.boxplot(x=train_df['rating'], y=train_df['neg'])"
   ]
  },
  {
   "cell_type": "code",
   "execution_count": 226,
   "metadata": {},
   "outputs": [
    {
     "data": {
      "text/plain": [
       "<AxesSubplot: xlabel='rating', ylabel='neu'>"
      ]
     },
     "execution_count": 226,
     "metadata": {},
     "output_type": "execute_result"
    },
    {
     "data": {
      "image/png": "[encoded data removed]",
      "text/plain": [
       "<Figure size 640x480 with 1 Axes>"
      ]
     },
     "metadata": {},
     "output_type": "display_data"
    }
   ],
   "source": [
    "sns.boxplot(x=train_df['rating'], y=train_df['neu'])"
   ]
  },
  {
   "cell_type": "code",
   "execution_count": 227,
   "metadata": {},
   "outputs": [
    {
     "data": {
      "text/plain": [
       "<AxesSubplot: xlabel='rating', ylabel='comp'>"
      ]
     },
     "execution_count": 227,
     "metadata": {},
     "output_type": "execute_result"
    },
    {
     "data": {
      "image/png": "[encoded data removed]",
      "text/plain": [
       "<Figure size 640x480 with 1 Axes>"
      ]
     },
     "metadata": {},
     "output_type": "display_data"
    }
   ],
   "source": [
    "sns.boxplot(x=train_df['rating'], y=train_df['comp'])"
   ]
  },
  {
   "attachments": {},
   "cell_type": "markdown",
   "metadata": {},
   "source": [
    "So from the above plots we can say that for making the rating label only using 'comp' score is sufficient as there are no outliners present for compound score corresponding to any rating and as rating is increasing the compound score is also increasing, but let us find correlation of each sentiment anlysis score with ratings also"
   ]
  },
  {
   "attachments": {},
   "cell_type": "markdown",
   "metadata": {},
   "source": [
    "##### Correlation Heat Map"
   ]
  },
  {
   "cell_type": "code",
   "execution_count": 228,
   "metadata": {},
   "outputs": [
    {
     "data": {
      "image/png": "[encoded data removed]",
      "text/plain": [
       "<Figure size 1000x1000 with 2 Axes>"
      ]
     },
     "metadata": {},
     "output_type": "display_data"
    }
   ],
   "source": [
    "# Correlation Heatmap of rating with pos neg neu and comp\n",
    "\n",
    "plt.figure(figsize=(10, 10))\n",
    "sns.heatmap(train_df.corr(), annot=True, cmap='RdYlGn')\n",
    "plt.show()"
   ]
  },
  {
   "attachments": {},
   "cell_type": "markdown",
   "metadata": {},
   "source": [
    "Here we can see that Compound, Positive Scores are positively correlated with the ratings values, but we will take only take Compund Score because of the insights of above Box Plots"
   ]
  },
  {
   "attachments": {},
   "cell_type": "markdown",
   "metadata": {},
   "source": [
    "##### Class Imbalance"
   ]
  },
  {
   "cell_type": "code",
   "execution_count": 230,
   "metadata": {},
   "outputs": [
    {
     "data": {
      "image/png": "[encoded data removed]",
      "text/plain": [
       "<Figure size 640x480 with 1 Axes>"
      ]
     },
     "metadata": {},
     "output_type": "display_data"
    }
   ],
   "source": [
    "plt.hist(Y_train, bins=10)\n",
    "plt.xlabel(\"Class\")\n",
    "plt.ylabel(\"Count\")\n",
    "plt.show()"
   ]
  },
  {
   "attachments": {},
   "cell_type": "markdown",
   "metadata": {},
   "source": [
    "Since there is a huge Class Imbalance in the dataframe so we have to do oversampling"
   ]
  },
  {
   "attachments": {},
   "cell_type": "markdown",
   "metadata": {},
   "source": [
    "##### OverSampling"
   ]
  },
  {
   "cell_type": "code",
   "execution_count": null,
   "metadata": {},
   "outputs": [],
   "source": []
  }
 ],
 "metadata": {
  "kernelspec": {
   "display_name": "Python 3",
   "language": "python",
   "name": "python3"
  },
  "language_info": {
   "codemirror_mode": {
    "name": "ipython",
    "version": 3
   },
   "file_extension": ".py",
   "mimetype": "text/x-python",
   "name": "python",
   "nbconvert_exporter": "python",
   "pygments_lexer": "ipython3",
   "version": "3.10.8"
  },
  "orig_nbformat": 4
 },
 "nbformat": 4,
 "nbformat_minor": 2
}
